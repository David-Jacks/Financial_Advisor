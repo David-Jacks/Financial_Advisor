{
 "cells": [
  {
   "cell_type": "code",
   "execution_count": null,
   "metadata": {},
   "outputs": [],
   "source": [
    "import pandas as pd\n",
    "import math\n",
    "a = \"Hello world\"\n",
    "data = \"mergedData_csv.csv\"\n",
    "\n",
    "# reading csv file into a dataframe\n",
    "df = pd.read_csv(data)\n",
    "# renaming col\n",
    "df = df.rename(columns = {'Years of Experience': 'Experience'})\n",
    "\n",
    "df.columns.tolist()"
   ]
  },
  {
   "cell_type": "code",
   "execution_count": null,
   "metadata": {},
   "outputs": [],
   "source": [
    "# droping all rows with null values\n",
    "df = df.dropna(axis=0)\n",
    "# droping financial history col\n",
    "if 'Finance History' in df.columns.tolist():\n",
    "    del df['Finance History']\n",
    "if 'Job Title' in df.columns.tolist():\n",
    "    del df['Job Title']\n",
    "# df[df.columns[1]].unique()\n",
    "df"
   ]
  },
  {
   "cell_type": "code",
   "execution_count": null,
   "metadata": {},
   "outputs": [],
   "source": [
    "# making the income column clean\n",
    "df_copy = df\n",
    "col = df_copy.columns[1]\n",
    "\n",
    "def clean_income(val):\n",
    "    if \"USD\" in val:\n",
    "        val = val.replace(\"USD\", \"\")\n",
    "    if \"usd\" in val:\n",
    "        val = val.replace(\"usd\", \"\")\n",
    "    if \"$\" in val:\n",
    "        val = val.replace(\"$\", \"\")\n",
    "    if \" \" in val:\n",
    "        val = val.replace(\" \", \"\")\n",
    "    if \",\" in val:\n",
    "        val = val.replace(\",\", \"\")\n",
    "    if \"k\" in val:\n",
    "        new_val = val.replace(\"k\", \"\")\n",
    "        new_lst = new_val.split(\".\")\n",
    "        len_dec = len(new_lst[-1])\n",
    "        len_to_div = 10\n",
    "        for _ in range(1, len_dec):\n",
    "            len_to_div *= 10\n",
    "        zeros = '0' * (len(str(1000 // len_to_div)) - 1)\n",
    "        new_lst.append(zeros)\n",
    "        val = \"\".join(new_lst)\n",
    "    return val\n",
    "\n",
    "df_copy[col] = df_copy[col].apply(clean_income)\n",
    "df_copy[col].unique()\n",
    "df = df_copy\n",
    "df"
   ]
  },
  {
   "cell_type": "code",
   "execution_count": null,
   "metadata": {},
   "outputs": [],
   "source": [
    "df_copy1 = df\n",
    "col = df.columns[10]\n",
    "print(col)\n",
    "df[col].unique()"
   ]
  },
  {
   "cell_type": "code",
   "execution_count": null,
   "metadata": {},
   "outputs": [],
   "source": [
    "df"
   ]
  },
  {
   "cell_type": "code",
   "execution_count": null,
   "metadata": {},
   "outputs": [],
   "source": []
  }
 ],
 "metadata": {
  "kernelspec": {
   "display_name": "Python 3",
   "language": "python",
   "name": "python3"
  },
  "language_info": {
   "codemirror_mode": {
    "name": "ipython",
    "version": 3
   },
   "file_extension": ".py",
   "mimetype": "text/x-python",
   "name": "python",
   "nbconvert_exporter": "python",
   "pygments_lexer": "ipython3",
   "version": "3.10.12"
  }
 },
 "nbformat": 4,
 "nbformat_minor": 2
}
